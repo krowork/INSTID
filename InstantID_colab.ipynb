{
 "cells": [
  {
   "cell_type": "code",
   "execution_count": null,
   "id": "7d3b20d3",
   "metadata": {},
   "outputs": [],
   "source": [
    "\"\"\"\n",
    "# InstantID: Zero-shot Identity-Preserving Generation in Seconds\n",
    "\n",
    "Este script implementa [InstantID](https://github.com/InstantX/InstantID), un método para generar imágenes \n",
    "que preservan la identidad de una persona en segundos.\n",
    "\"\"\""
   ]
  },
  {
   "cell_type": "code",
   "execution_count": null,
   "id": "6ebc3fcb",
   "metadata": {},
   "outputs": [],
   "source": [
    "# Instalación de dependencias\n",
    "!pip install -q torch==2.0.1 torchvision==0.15.2 diffusers==0.33.1 transformers==4.38.2 accelerate==0.28.0\n",
    "!pip install -q safetensors==0.4.2 einops==0.7.0 onnxruntime==1.17.1 omegaconf==2.3.0 peft==0.9.0\n",
    "!pip install -q huggingface-hub==0.21.4 opencv-python==4.9.0.80 insightface==0.7.3"
   ]
  },
  {
   "cell_type": "code",
   "execution_count": null,
   "id": "5909e7c0",
   "metadata": {},
   "outputs": [],
   "source": [
    "# Clonar nuestro repositorio\n",
    "!git clone https://github.com/krowork/INSTID.git\n",
    "%cd INSTID"
   ]
  },
  {
   "cell_type": "code",
   "execution_count": null,
   "id": "dbb38dba",
   "metadata": {},
   "outputs": [],
   "source": [
    "\"\"\"## Descargar Modelos Necesarios\"\"\""
   ]
  },
  {
   "cell_type": "code",
   "execution_count": null,
   "id": "451d4abd",
   "metadata": {},
   "outputs": [],
   "source": [
    "import os\n",
    "from huggingface_hub import hf_hub_download"
   ]
  },
  {
   "cell_type": "code",
   "execution_count": null,
   "id": "6705700b",
   "metadata": {},
   "outputs": [],
   "source": [
    "# Crear directorio para checkpoints\n",
    "os.makedirs(\"checkpoints\", exist_ok=True)\n",
    "os.makedirs(\"checkpoints/ControlNetModel\", exist_ok=True)"
   ]
  },
  {
   "cell_type": "code",
   "execution_count": null,
   "id": "b25e5081",
   "metadata": {},
   "outputs": [],
   "source": [
    "# Descargar modelos necesarios\n",
    "model_files = [\n",
    "    {\"filename\": \"ControlNetModel/config.json\", \"repo_id\": \"InstantX/InstantID\"},\n",
    "    {\"filename\": \"ControlNetModel/diffusion_pytorch_model.safetensors\", \"repo_id\": \"InstantX/InstantID\"},\n",
    "    {\"filename\": \"ip-adapter.bin\", \"repo_id\": \"InstantX/InstantID\"}\n",
    "]"
   ]
  },
  {
   "cell_type": "code",
   "execution_count": null,
   "id": "d18fdc94",
   "metadata": {},
   "outputs": [],
   "source": [
    "for file_info in model_files:\n",
    "    print(f\"Descargando {file_info['filename']}...\")\n",
    "    hf_hub_download(\n",
    "        repo_id=file_info['repo_id'],\n",
    "        filename=file_info['filename'],\n",
    "        local_dir=\"./checkpoints\",\n",
    "        resume_download=True\n",
    "    )"
   ]
  },
  {
   "cell_type": "code",
   "execution_count": null,
   "id": "fded9ca7",
   "metadata": {},
   "outputs": [],
   "source": [
    "\"\"\"## Importar Dependencias y Configurar el Modelo\"\"\""
   ]
  },
  {
   "cell_type": "code",
   "execution_count": null,
   "id": "a196671d",
   "metadata": {},
   "outputs": [],
   "source": [
    "import cv2\n",
    "import torch\n",
    "import numpy as np\n",
    "from PIL import Image\n",
    "from diffusers.utils import load_image\n",
    "from diffusers.models import ControlNetModel\n",
    "from insightface.app import FaceAnalysis\n",
    "from pipeline_stable_diffusion_xl_instantid import StableDiffusionXLInstantIDPipeline, draw_kps"
   ]
  },
  {
   "cell_type": "code",
   "execution_count": null,
   "id": "e1139246",
   "metadata": {},
   "outputs": [],
   "source": [
    "# Configurar dispositivo\n",
    "device = \"cuda\" if torch.cuda.is_available() else \"cpu\"\n",
    "torch_dtype = torch.float16 if device == \"cuda\" else torch.float32"
   ]
  },
  {
   "cell_type": "code",
   "execution_count": null,
   "id": "6e12861b",
   "metadata": {},
   "outputs": [],
   "source": [
    "print(f\"Usando dispositivo: {device}\")"
   ]
  },
  {
   "cell_type": "code",
   "execution_count": null,
   "id": "c0c46d93",
   "metadata": {},
   "outputs": [],
   "source": [
    "# Inicializar el analizador facial\n",
    "print(\"Inicializando analizador facial...\")\n",
    "app = FaceAnalysis(name='antelopev2', root='./', providers=['CUDAExecutionProvider', 'CPUExecutionProvider'])\n",
    "app.prepare(ctx_id=0, det_size=(640, 640))"
   ]
  },
  {
   "cell_type": "code",
   "execution_count": null,
   "id": "a5dddd3e",
   "metadata": {},
   "outputs": [],
   "source": [
    "# Cargar ControlNet\n",
    "print(\"Cargando ControlNet...\")\n",
    "controlnet = ControlNetModel.from_pretrained(\n",
    "    'checkpoints/ControlNetModel',\n",
    "    torch_dtype=torch_dtype,\n",
    "    use_safetensors=True\n",
    ")"
   ]
  },
  {
   "cell_type": "code",
   "execution_count": null,
   "id": "e50700f6",
   "metadata": {},
   "outputs": [],
   "source": [
    "# Cargar el pipeline\n",
    "print(\"Cargando pipeline principal...\")\n",
    "pipe = StableDiffusionXLInstantIDPipeline.from_pretrained(\n",
    "    \"stabilityai/stable-diffusion-xl-base-1.0\",\n",
    "    controlnet=controlnet,\n",
    "    torch_dtype=torch_dtype,\n",
    "    safety_checker=None,\n",
    "    feature_extractor=None\n",
    ")"
   ]
  },
  {
   "cell_type": "code",
   "execution_count": null,
   "id": "899eb6e9",
   "metadata": {},
   "outputs": [],
   "source": [
    "if device == \"cuda\":\n",
    "    pipe.cuda()\n",
    "    pipe.enable_model_cpu_offload()\n",
    "    pipe.enable_vae_tiling()"
   ]
  },
  {
   "cell_type": "code",
   "execution_count": null,
   "id": "bb7b1723",
   "metadata": {},
   "outputs": [],
   "source": [
    "# Cargar IP-Adapter\n",
    "print(\"Cargando IP-Adapter...\")\n",
    "pipe.load_ip_adapter_instantid('checkpoints/ip-adapter.bin')"
   ]
  },
  {
   "cell_type": "code",
   "execution_count": null,
   "id": "1a0c6587",
   "metadata": {},
   "outputs": [],
   "source": [
    "print(\"¡Configuración completada!\")"
   ]
  },
  {
   "cell_type": "code",
   "execution_count": null,
   "id": "ca063175",
   "metadata": {
    "lines_to_next_cell": 1
   },
   "outputs": [],
   "source": [
    "\"\"\"## Función de Generación de Imágenes\"\"\""
   ]
  },
  {
   "cell_type": "code",
   "execution_count": null,
   "id": "2ec2bf44",
   "metadata": {
    "lines_to_next_cell": 1
   },
   "outputs": [],
   "source": [
    "def generate_image(face_image_path, prompt, negative_prompt=None, num_steps=30, identitynet_strength_ratio=0.80, adapter_strength_ratio=0.80):\n",
    "    \"\"\"Genera una imagen usando InstantID.\n",
    "    \n",
    "    Args:\n",
    "        face_image_path (str): Ruta a la imagen del rostro\n",
    "        prompt (str): Descripción de la imagen a generar\n",
    "        negative_prompt (str, opcional): Prompt negativo\n",
    "        num_steps (int): Número de pasos de inferencia\n",
    "        identitynet_strength_ratio (float): Fuerza de IdentityNet (0-1)\n",
    "        adapter_strength_ratio (float): Fuerza del adaptador (0-1)\n",
    "    \n",
    "    Returns:\n",
    "        PIL.Image: Imagen generada\n",
    "    \"\"\"\n",
    "    if negative_prompt is None:\n",
    "        negative_prompt = \"(lowres, low quality, worst quality:1.2), (text:1.2), watermark, (frame:1.2), deformed, ugly, deformed eyes, blur, out of focus, blurry\"\n",
    "    \n",
    "    print(\"Cargando imagen...\")\n",
    "    face_image = load_image(face_image_path)\n",
    "    face_image_cv2 = cv2.cvtColor(np.array(face_image), cv2.COLOR_RGB2BGR)\n",
    "    \n",
    "    print(\"Detectando rostro...\")\n",
    "    face_info = app.get(face_image_cv2)\n",
    "    if len(face_info) == 0:\n",
    "        raise ValueError(\"No se detectó ningún rostro en la imagen\")\n",
    "    \n",
    "    face_info = face_info[-1]\n",
    "    face_emb = face_info['embedding']\n",
    "    face_kps = draw_kps(face_image, face_info['kps'])\n",
    "    \n",
    "    print(\"Configurando parámetros...\")\n",
    "    pipe.set_ip_adapter_scale(adapter_strength_ratio)\n",
    "    \n",
    "    print(\"Generando imagen...\")\n",
    "    image = pipe(\n",
    "        prompt=prompt,\n",
    "        negative_prompt=negative_prompt,\n",
    "        image_embeds=face_emb,\n",
    "        image=face_kps,\n",
    "        controlnet_conditioning_scale=float(identitynet_strength_ratio),\n",
    "        num_inference_steps=num_steps,\n",
    "        guidance_scale=5.0\n",
    "    ).images[0]\n",
    "    \n",
    "    print(\"¡Generación completada!\")\n",
    "    return image"
   ]
  },
  {
   "cell_type": "code",
   "execution_count": null,
   "id": "7d0a464e",
   "metadata": {},
   "outputs": [],
   "source": [
    "\"\"\"## Ejemplo de Uso\"\"\""
   ]
  },
  {
   "cell_type": "code",
   "execution_count": null,
   "id": "0e7d18fb",
   "metadata": {},
   "outputs": [],
   "source": [
    "# Código para usar en Colab:\n",
    "from google.colab import files\n",
    "import ipywidgets as widgets"
   ]
  },
  {
   "cell_type": "code",
   "execution_count": null,
   "id": "4b7bc4c1",
   "metadata": {},
   "outputs": [],
   "source": [
    "print(\"Por favor, sube una imagen con un rostro claro y visible...\")\n",
    "uploaded = files.upload()\n",
    "image_path = next(iter(uploaded.keys()))"
   ]
  },
  {
   "cell_type": "code",
   "execution_count": null,
   "id": "ba21af74",
   "metadata": {},
   "outputs": [],
   "source": [
    "# Mostrar la imagen subida\n",
    "display(Image.open(image_path))"
   ]
  },
  {
   "cell_type": "code",
   "execution_count": null,
   "id": "2c26ce6f",
   "metadata": {},
   "outputs": [],
   "source": [
    "\"\"\"### Configurar Parámetros y Generar Imagen\"\"\""
   ]
  },
  {
   "cell_type": "code",
   "execution_count": null,
   "id": "08a39dd9",
   "metadata": {},
   "outputs": [],
   "source": [
    "# Widgets para configurar parámetros\n",
    "prompt_widget = widgets.Text(\n",
    "    value='analog film photo of a person in a cyberpunk city, neon lights, cinematic lighting',\n",
    "    description='Prompt:',\n",
    "    style={'description_width': 'initial'},\n",
    "    layout={'width': '100%'}\n",
    ")"
   ]
  },
  {
   "cell_type": "code",
   "execution_count": null,
   "id": "6fb01f08",
   "metadata": {},
   "outputs": [],
   "source": [
    "steps_widget = widgets.IntSlider(\n",
    "    value=30,\n",
    "    min=20,\n",
    "    max=100,\n",
    "    step=1,\n",
    "    description='Pasos:',\n",
    ")"
   ]
  },
  {
   "cell_type": "code",
   "execution_count": null,
   "id": "29dc5d26",
   "metadata": {},
   "outputs": [],
   "source": [
    "identity_strength_widget = widgets.FloatSlider(\n",
    "    value=0.80,\n",
    "    min=0.0,\n",
    "    max=1.5,\n",
    "    step=0.05,\n",
    "    description='Fuerza IdentityNet:',\n",
    ")"
   ]
  },
  {
   "cell_type": "code",
   "execution_count": null,
   "id": "7acddaf6",
   "metadata": {},
   "outputs": [],
   "source": [
    "adapter_strength_widget = widgets.FloatSlider(\n",
    "    value=0.80,\n",
    "    min=0.0,\n",
    "    max=1.5,\n",
    "    step=0.05,\n",
    "    description='Fuerza Adapter:',\n",
    ")"
   ]
  },
  {
   "cell_type": "code",
   "execution_count": null,
   "id": "bdaced48",
   "metadata": {},
   "outputs": [],
   "source": [
    "display(prompt_widget, steps_widget, identity_strength_widget, adapter_strength_widget)"
   ]
  },
  {
   "cell_type": "code",
   "execution_count": null,
   "id": "c0434bbd",
   "metadata": {},
   "outputs": [],
   "source": [
    "# Generar imagen con los parámetros configurados\n",
    "generated_image = generate_image(\n",
    "    face_image_path=image_path,\n",
    "    prompt=prompt_widget.value,\n",
    "    num_steps=steps_widget.value,\n",
    "    identitynet_strength_ratio=identity_strength_widget.value,\n",
    "    adapter_strength_ratio=adapter_strength_widget.value\n",
    ")"
   ]
  },
  {
   "cell_type": "code",
   "execution_count": null,
   "id": "bf396405",
   "metadata": {},
   "outputs": [],
   "source": [
    "# Mostrar la imagen generada\n",
    "display(generated_image)"
   ]
  },
  {
   "cell_type": "code",
   "execution_count": null,
   "id": "a1186c56",
   "metadata": {},
   "outputs": [],
   "source": [
    "\"\"\"## Limpieza de Memoria\"\"\""
   ]
  },
  {
   "cell_type": "code",
   "execution_count": null,
   "id": "458a3aac",
   "metadata": {},
   "outputs": [],
   "source": [
    "if torch.cuda.is_available():\n",
    "    torch.cuda.empty_cache()\n",
    "    torch.cuda.synchronize()\n",
    "    print(\"Memoria GPU liberada\") "
   ]
  }
 ],
 "metadata": {
  "jupytext": {
   "cell_metadata_filter": "-all",
   "encoding": "# -*- coding: utf-8 -*-",
   "main_language": "python",
   "notebook_metadata_filter": "-all"
  }
 },
 "nbformat": 4,
 "nbformat_minor": 5
}
